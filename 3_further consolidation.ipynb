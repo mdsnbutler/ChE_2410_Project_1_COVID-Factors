{
 "cells": [
  {
   "cell_type": "markdown",
   "metadata": {},
   "source": [
    "Going to add informaiton on population so we can create per capita figures!"
   ]
  },
  {
   "cell_type": "code",
   "execution_count": 1,
   "metadata": {},
   "outputs": [
    {
     "name": "stdout",
     "output_type": "stream",
     "text": [
      "The number of rows in the population data: 3194\n"
     ]
    }
   ],
   "source": [
    "import pandas as pd\n",
    "import numpy as np\n",
    "\n",
    "poplist = []\n",
    "\n",
    "#lets get our data\n",
    "data = pd.DataFrame(pd.read_csv(r\"C:\\Users\\mdsnb\\OneDrive\\Documents\\GitHub\\ChE_2410_Math\\Project 1\\county_all+no0transusage+logcolumns.csv\"))\n",
    "popdata = pd.DataFrame(pd.read_csv(r\"C:\\Users\\mdsnb\\OneDrive\\Documents\\GitHub\\ChE_2410_Math\\Project 1\\co-est2021-alldata.csv\",engine='python',encoding='latin1'))\n",
    "#print(popdata.head())\n",
    "print('The number of rows in the population data:', len(popdata.index))\n",
    "popdatacountylist = popdata['CTYNAME'].tolist()\n",
    "popdatastatelist = popdata['STNAME'].tolist()\n",
    "\n",
    "def listindices(list_to_check, item_to_find):\n",
    "    indices = []\n",
    "    for idx, value in enumerate(list_to_check):\n",
    "        if value == item_to_find:\n",
    "            indices.append(idx)\n",
    "    return indices\n",
    "\n",
    "#getting sum infections for 2021 by county\n",
    "for k in range(len(data.index)):\n",
    "\n",
    "    countyname = data.loc[k, 'County']\n",
    "    #print('Name:',countyname,)\n",
    "    countystate = data.loc[k, 'State']\n",
    "    tempindices = listindices(popdatacountylist, countyname)\n",
    "    #print(tempindices)\n",
    "\n",
    "    for k in range(len(tempindices)):\n",
    "        if countystate == popdatastatelist[tempindices[k]]:\n",
    "            #print(tempindices[0])\n",
    "            pop = popdata.loc[tempindices[k], 'POPESTIMATE2021']\n",
    "            #print(pop)\n",
    "            poplist.append(pop)\n",
    "        \n",
    "data['Population'] = poplist\n",
    "infectionslist = data['Total infections'].tolist()\n",
    "ratiolist = np.divide(infectionslist, poplist)\n",
    "data['infperpop'] = ratiolist\n",
    "logratiolist = np.log10(ratiolist)\n",
    "data['loginfperpop'] = logratiolist\n",
    "\n",
    "data.to_csv(r\"C:\\Users\\mdsnb\\OneDrive\\Documents\\GitHub\\ChE_2410_Math\\Project 1\\county_withpop.csv\")"
   ]
  }
 ],
 "metadata": {
  "kernelspec": {
   "display_name": "Python 3.9.12 ('base')",
   "language": "python",
   "name": "python3"
  },
  "language_info": {
   "codemirror_mode": {
    "name": "ipython",
    "version": 3
   },
   "file_extension": ".py",
   "mimetype": "text/x-python",
   "name": "python",
   "nbconvert_exporter": "python",
   "pygments_lexer": "ipython3",
   "version": "3.9.12"
  },
  "orig_nbformat": 4,
  "vscode": {
   "interpreter": {
    "hash": "3ea7c28dc7569e024bd9f57d5fd933e532fb588a53e331ae301b88ac3d4d46d7"
   }
  }
 },
 "nbformat": 4,
 "nbformat_minor": 2
}
