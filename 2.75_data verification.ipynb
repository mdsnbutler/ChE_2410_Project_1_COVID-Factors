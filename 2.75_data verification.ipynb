{
 "cells": [
  {
   "cell_type": "code",
   "execution_count": 21,
   "metadata": {},
   "outputs": [
    {
     "name": "stdout",
     "output_type": "stream",
     "text": [
      "RangeIndex(start=0, stop=1471, step=1)\n"
     ]
    }
   ],
   "source": [
    "import pandas as pd\n",
    "import numpy as np\n",
    "\n",
    "data = pd.DataFrame(pd.read_csv(r\"C:\\Users\\mdsnb\\OneDrive\\Documents\\GitHub\\ChE_2410_Math\\Project 1\\county_withpop.csv\"))\n",
    "data.columns = data.columns.str.replace(' ', '')\n",
    "data.head()\n",
    "print(data.index)"
   ]
  },
  {
   "cell_type": "code",
   "execution_count": 22,
   "metadata": {},
   "outputs": [
    {
     "name": "stderr",
     "output_type": "stream",
     "text": [
      "C:\\Users\\mdsnb\\AppData\\Local\\Temp\\ipykernel_7592\\4075603086.py:7: DeprecationWarning: This function is deprecated. Please call randint(1, 1471 + 1) instead\n",
      "  indices = np.random.random_integers(1, rows, size = 10).tolist()\n"
     ]
    }
   ],
   "source": [
    "countylist = []\n",
    "populationlist = []\n",
    "densitylist = []\n",
    "inflist = []\n",
    "translist = []\n",
    "rows = len(data.index)\n",
    "indices = np.random.random_integers(1, rows, size = 10).tolist()\n",
    "for k in range(len(indices)):\n",
    "    county = data.loc[indices[k], 'County']\n",
    "    pop = data.loc[indices[k], 'Population']\n",
    "    density = data.loc[indices[k], 'Density']\n",
    "    inf = data.loc[indices[k], 'Totalinfections']\n",
    "    trans = data.loc[indices[k], 'PublicTransportationUsage']\n",
    "    countylist.append(county)\n",
    "    populationlist.append(pop)\n",
    "    densitylist.append(density)\n",
    "    inflist.append(inf)\n",
    "    translist.append(trans)\n",
    "\n",
    "samples = pd.DataFrame(columns = ['County', 'Population', 'Density', 'Total infections', \"Public Transportation Usage\"])\n",
    "samples['County'] = countylist\n",
    "samples['Population'] = populationlist\n",
    "samples['Density'] = densitylist\n",
    "samples['Total infections'] = inflist\n",
    "samples['Public Transportation Usage'] = translist\n",
    "samples.to_csv(r\"C:\\Users\\mdsnb\\OneDrive\\Documents\\GitHub\\ChE_2410_Math\\Project 1\\samples.csv\")"
   ]
  }
 ],
 "metadata": {
  "kernelspec": {
   "display_name": "Python 3.9.12 ('base')",
   "language": "python",
   "name": "python3"
  },
  "language_info": {
   "codemirror_mode": {
    "name": "ipython",
    "version": 3
   },
   "file_extension": ".py",
   "mimetype": "text/x-python",
   "name": "python",
   "nbconvert_exporter": "python",
   "pygments_lexer": "ipython3",
   "version": "3.9.12"
  },
  "orig_nbformat": 4,
  "vscode": {
   "interpreter": {
    "hash": "3ea7c28dc7569e024bd9f57d5fd933e532fb588a53e331ae301b88ac3d4d46d7"
   }
  }
 },
 "nbformat": 4,
 "nbformat_minor": 2
}
