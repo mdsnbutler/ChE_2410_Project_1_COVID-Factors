{
 "cells": [
  {
   "cell_type": "code",
   "execution_count": 17,
   "metadata": {},
   "outputs": [
    {
     "name": "stdout",
     "output_type": "stream",
     "text": [
      "The number of rows in the population data: 3194\n",
      "   SUMLEV  REGION  DIVISION  STATE  COUNTY   STNAME         CTYNAME  \\\n",
      "0      40       3         6      1       0  Alabama         Alabama   \n",
      "1      50       3         6      1       1  Alabama  Autauga County   \n",
      "2      50       3         6      1       3  Alabama  Baldwin County   \n",
      "3      50       3         6      1       5  Alabama  Barbour County   \n",
      "4      50       3         6      1       7  Alabama     Bibb County   \n",
      "\n",
      "   ESTIMATESBASE2020  POPESTIMATE2020  POPESTIMATE2021  ...  RESIDUAL2021  \\\n",
      "0            5024279          5024803          5039877  ...           242   \n",
      "1              58805            58877            59095  ...             8   \n",
      "2             231767           233140           239294  ...           -82   \n",
      "3              25223            25180            24964  ...             1   \n",
      "4              22293            22223            22477  ...            -1   \n",
      "\n",
      "   GQESTIMATESBASE2020  GQESTIMATES2020  GQESTIMATES2021  RBIRTH2021  \\\n",
      "0               114572           114572           114572   11.191613   \n",
      "1                  442              442              442   11.002611   \n",
      "2                 2177             2177             2177    9.567474   \n",
      "3                 2789             2789             2789   10.928526   \n",
      "4                 2062             2062             2062   10.111857   \n",
      "\n",
      "   RDEATH2021  RNATURALCHG2021  RINTERNATIONALMIG2021  RDOMESTICMIG2021  \\\n",
      "0   12.890226        -1.698613               0.247201          4.398749   \n",
      "1   11.545112        -0.542502               0.084766          4.017903   \n",
      "2   12.137145        -2.569671               0.266704         28.702422   \n",
      "3   15.714742        -4.786216               0.039885         -3.908743   \n",
      "4   12.617450        -2.505593               0.089485         13.825503   \n",
      "\n",
      "   RNETMIG2021  \n",
      "0     4.645950  \n",
      "1     4.102668  \n",
      "2    28.969126  \n",
      "3    -3.868858  \n",
      "4    13.914989  \n",
      "\n",
      "[5 rows x 35 columns]\n",
      "0       48.597902\n",
      "1       40.749275\n",
      "2       39.408388\n",
      "3       50.921342\n",
      "4       48.296912\n",
      "          ...    \n",
      "2557    46.648892\n",
      "2558    38.985897\n",
      "2559    48.170342\n",
      "2560    53.987541\n",
      "2561    42.390511\n",
      "Name: Infections per Population, Length: 2562, dtype: float64\n"
     ]
    }
   ],
   "source": [
    "import pandas as pd\n",
    "import numpy as np\n",
    "\n",
    "poplist = []\n",
    "\n",
    "#lets get our data\n",
    "data = pd.DataFrame(pd.read_csv(r\"C:\\Users\\mdsnb\\OneDrive\\Documents\\GitHub\\ChE_2410_Math\\Project 1\\county_all+no0transusage+logcolumns.csv\"))\n",
    "popdata = pd.DataFrame(pd.read_csv(r\"C:\\Users\\mdsnb\\Downloads\\co-est2021-alldata.csv\",engine='python',encoding='latin1'))\n",
    "print('The number of rows in the population data:', len(popdata.index))\n",
    "print(popdata.head())\n",
    "popdatacountylist = popdata['CTYNAME'].tolist()\n",
    "\n",
    "def listindices(list_to_check, item_to_find):\n",
    "    indices = []\n",
    "    for idx, value in enumerate(list_to_check):\n",
    "        if value == item_to_find:\n",
    "            indices.append(idx)\n",
    "    return indices\n",
    "\n",
    "#getting sum infections for 2021 by county\n",
    "for k in range(len(data.index)):\n",
    "\n",
    "    countyname = data.loc[k, 'County']\n",
    "    #print('Name:',countyname,)\n",
    "\n",
    "    tempindices = listindices(popdatacountylist, countyname)\n",
    "    #print(tempindices[0])\n",
    "    pop = popdata.loc[tempindices[0], 'POPESTIMATE2021']\n",
    "    #print(pop)\n",
    "    poplist.append(pop)\n",
    "        \n",
    "data['Population'] = poplist\n",
    "infectionslist = data['Total infections'].tolist()\n",
    "ratiolist = np.divide(infectionslist, poplist)\n",
    "data['Infections per Population'] = ratiolist\n",
    "\n",
    "print(data['Infections per Population'])\n",
    "\n",
    "data.to_csv(r\"C:\\Users\\mdsnb\\OneDrive\\Documents\\GitHub\\ChE_2410_Math\\Project 1\\county_withpop.csv\")"
   ]
  }
 ],
 "metadata": {
  "kernelspec": {
   "display_name": "Python 3.9.12 ('base')",
   "language": "python",
   "name": "python3"
  },
  "language_info": {
   "codemirror_mode": {
    "name": "ipython",
    "version": 3
   },
   "file_extension": ".py",
   "mimetype": "text/x-python",
   "name": "python",
   "nbconvert_exporter": "python",
   "pygments_lexer": "ipython3",
   "version": "3.9.12"
  },
  "orig_nbformat": 4,
  "vscode": {
   "interpreter": {
    "hash": "3ea7c28dc7569e024bd9f57d5fd933e532fb588a53e331ae301b88ac3d4d46d7"
   }
  }
 },
 "nbformat": 4,
 "nbformat_minor": 2
}
