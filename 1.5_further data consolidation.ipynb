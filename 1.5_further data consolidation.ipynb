{
 "cells": [
  {
   "cell_type": "code",
   "execution_count": null,
   "metadata": {},
   "outputs": [],
   "source": [
    "import pandas as pd\n",
    "import numpy as np\n",
    "\n",
    "countylist = []\n",
    "caseslist = []\n",
    "stateslist = []\n",
    "\n",
    "#lets get covid data\n",
    "coviddata = pd.DataFrame(pd.read_csv(r\"C:\\Users\\mdsnb\\Downloads\\co-est2021-alldata.csv\")\n",
    "print('The number of rows in coviddata:', len(coviddata.index))\n",
    "print(coviddata.head())\n",
    "\n",
    "def listindices(list_to_check, item_to_find):\n",
    "    indices = []\n",
    "    for idx, value in enumerate(list_to_check):\n",
    "        if value == item_to_find:\n",
    "            indices.append(idx)\n",
    "    return indices\n",
    "\n",
    "#getting sum infections for 2021 by county\n",
    "for k in range(len(coviddata.index)):\n",
    "\n",
    "    #county names are different in this dataframe, need to alter\n",
    "    countyname = coviddata.loc[k, 'county'] + ' County'\n",
    "    #print('Name:',countyname,)\n",
    "\n",
    "    #establishing the quantity of new cases\n",
    "    countynewcases = coviddata.loc[k, 'cases']\n",
    "    #print(\"new cases:\", countynewcases)\n",
    "\n",
    "    #making an associated state entry\n",
    "    countystate = coviddata.loc[k, 'state']\n",
    "    #print('county state',countystate)\n",
    "\n",
    "    #for every row checking if the county name is in countylist\n",
    "    if (countyname in countylist) is True:\n",
    "\n",
    "        #call an array of indices\n",
    "        tempindices = listindices(countylist, countyname)\n",
    "        #print(tempindices)\n",
    "\n",
    "        #iterate over array of indices to see if states match\n",
    "        for i in range(len(tempindices)):\n",
    "            if stateslist[tempindices[i]] == countystate:\n",
    "\n",
    "                #if they do, update the associated entry in the cases list by the new amount\n",
    "                caseslist[tempindices[i]] += countynewcases\n",
    "       \n",
    "    #otherwise adding country name, this entry cases, and the associated state\n",
    "    else:\n",
    "\n",
    "        #print('this county does not exist yet - ', countyname)\n",
    "        countylist.append(countyname)\n",
    "        caseslist.append(countynewcases)\n",
    "        stateslist.append(countystate)\n",
    "\n",
    "allvariables = pd.DataFrame(columns = ['County','State','Total infections'])\n",
    "allvariables['County'] = countylist\n",
    "allvariables['State'] = stateslist\n",
    "allvariables['Total infections'] = caseslist\n",
    "\n",
    "allvariables.to_csv(r\"C:\\Users\\mdsnb\\OneDrive\\Documents\\GitHub\\ChE_2410_Math\\Project 1\\county_ti.csv\")\n",
    "#verifying that the correct counties were tabulated\n",
    "print('this will take ')\n",
    "print('number of unique counties produced',len(countylist))"
   ]
  }
 ],
 "metadata": {
  "kernelspec": {
   "display_name": "Python 3.10.7 64-bit",
   "language": "python",
   "name": "python3"
  },
  "language_info": {
   "name": "python",
   "version": "3.10.7"
  },
  "orig_nbformat": 4,
  "vscode": {
   "interpreter": {
    "hash": "988f502a8e40c072c215100f993095fb96203580ff3ed8e0339bfe3b39ce3ddb"
   }
  }
 },
 "nbformat": 4,
 "nbformat_minor": 2
}
