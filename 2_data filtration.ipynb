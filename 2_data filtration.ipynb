{
 "cells": [
  {
   "cell_type": "markdown",
   "metadata": {},
   "source": [
    "We want to remove row entries that have a public transportation usage of 0. Rationale is that because it's 0 and not something very close to 0, it's almost certainly not an option available to citizens."
   ]
  },
  {
   "cell_type": "code",
   "execution_count": 1,
   "metadata": {},
   "outputs": [],
   "source": [
    "import numpy as np\n",
    "import pandas as pd\n",
    "\n",
    "indicestoremove = []\n",
    "\n",
    "data = pd.DataFrame(pd.read_csv(r\"C:\\Users\\mdsnb\\OneDrive\\Documents\\GitHub\\ChE_2410_Math\\Project 1\\county_all.csv\"))\n",
    "\n",
    "df_out = data[data['Public Transportation Usage'] != 0]"
   ]
  },
  {
   "cell_type": "markdown",
   "metadata": {},
   "source": [
    "And adding log-log information to excel file."
   ]
  },
  {
   "cell_type": "code",
   "execution_count": 2,
   "metadata": {},
   "outputs": [
    {
     "name": "stderr",
     "output_type": "stream",
     "text": [
      "C:\\Users\\mdsnb\\AppData\\Local\\Temp\\ipykernel_16180\\3538428035.py:5: SettingWithCopyWarning: \n",
      "A value is trying to be set on a copy of a slice from a DataFrame.\n",
      "Try using .loc[row_indexer,col_indexer] = value instead\n",
      "\n",
      "See the caveats in the documentation: https://pandas.pydata.org/pandas-docs/stable/user_guide/indexing.html#returning-a-view-versus-a-copy\n",
      "  df_out['logdensity'] = logdensity\n",
      "C:\\Users\\mdsnb\\AppData\\Local\\Temp\\ipykernel_16180\\3538428035.py:6: SettingWithCopyWarning: \n",
      "A value is trying to be set on a copy of a slice from a DataFrame.\n",
      "Try using .loc[row_indexer,col_indexer] = value instead\n",
      "\n",
      "See the caveats in the documentation: https://pandas.pydata.org/pandas-docs/stable/user_guide/indexing.html#returning-a-view-versus-a-copy\n",
      "  df_out['loginf'] = loginf\n",
      "C:\\Users\\mdsnb\\AppData\\Local\\Temp\\ipykernel_16180\\3538428035.py:7: SettingWithCopyWarning: \n",
      "A value is trying to be set on a copy of a slice from a DataFrame.\n",
      "Try using .loc[row_indexer,col_indexer] = value instead\n",
      "\n",
      "See the caveats in the documentation: https://pandas.pydata.org/pandas-docs/stable/user_guide/indexing.html#returning-a-view-versus-a-copy\n",
      "  df_out['logtrans'] = logtrans\n",
      "C:\\Users\\mdsnb\\AppData\\Local\\Temp\\ipykernel_16180\\3538428035.py:8: SettingWithCopyWarning: \n",
      "A value is trying to be set on a copy of a slice from a DataFrame.\n",
      "Try using .loc[row_indexer,col_indexer] = value instead\n",
      "\n",
      "See the caveats in the documentation: https://pandas.pydata.org/pandas-docs/stable/user_guide/indexing.html#returning-a-view-versus-a-copy\n",
      "  df_out['logd*t interaction'] = interaction\n"
     ]
    }
   ],
   "source": [
    "logdensity = np.log10(np.array(df_out['Density'].tolist()))\n",
    "loginf = np.log10(np.array(df_out['Total infections'].tolist()))\n",
    "logtrans = np.log10(np.array(df_out['Public Transportation Usage'].tolist()))\n",
    "interaction = loginf * logtrans\n",
    "df_out['logdensity'] = logdensity\n",
    "df_out['loginf'] = loginf\n",
    "df_out['logtrans'] = logtrans\n",
    "df_out['logd*t interaction'] = interaction\n",
    "\n",
    "df_out.to_csv(r\"C:\\Users\\mdsnb\\OneDrive\\Documents\\GitHub\\ChE_2410_Math\\Project 1\\county_all+no0transusage+logcolumns.csv\")\n",
    "\n",
    "#print(len(df_out))"
   ]
  }
 ],
 "metadata": {
  "kernelspec": {
   "display_name": "Python 3.9.12 ('base')",
   "language": "python",
   "name": "python3"
  },
  "language_info": {
   "codemirror_mode": {
    "name": "ipython",
    "version": 3
   },
   "file_extension": ".py",
   "mimetype": "text/x-python",
   "name": "python",
   "nbconvert_exporter": "python",
   "pygments_lexer": "ipython3",
   "version": "3.9.12"
  },
  "orig_nbformat": 4,
  "vscode": {
   "interpreter": {
    "hash": "3ea7c28dc7569e024bd9f57d5fd933e532fb588a53e331ae301b88ac3d4d46d7"
   }
  }
 },
 "nbformat": 4,
 "nbformat_minor": 2
}
