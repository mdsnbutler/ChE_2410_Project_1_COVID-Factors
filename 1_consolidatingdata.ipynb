{
 "cells": [
  {
   "cell_type": "markdown",
   "metadata": {},
   "source": [
    "Consolidating information from NYT covid cases and then by county information from census.gov. This script will not be able to run without the downloads references files, but the produced data is in the github folder."
   ]
  },
  {
   "cell_type": "markdown",
   "metadata": {},
   "source": [
    "The file can be found here: https://github.com/nytimes/covid-19-data"
   ]
  },
  {
   "cell_type": "code",
   "execution_count": 1,
   "metadata": {},
   "outputs": [
    {
     "name": "stdout",
     "output_type": "stream",
     "text": [
      "The number of rows in coviddata: 1185373\n",
      "         date   county    state    fips  cases  deaths\n",
      "0  2021-01-01  Autauga  Alabama  1001.0   4239    50.0\n",
      "1  2021-01-01  Baldwin  Alabama  1003.0  13823   169.0\n",
      "2  2021-01-01  Barbour  Alabama  1005.0   1517    33.0\n",
      "3  2021-01-01     Bibb  Alabama  1007.0   1854    46.0\n",
      "4  2021-01-01   Blount  Alabama  1009.0   4693    63.0\n",
      "number of unique counties produced 1930\n"
     ]
    }
   ],
   "source": [
    "import pandas as pd\n",
    "import numpy as np\n",
    "\n",
    "countylist = []\n",
    "caseslist = []\n",
    "stateslist = []\n",
    "\n",
    "#lets get covid data\n",
    "coviddata = pd.DataFrame(pd.read_csv(r\"C:\\Users\\mdsnb\\Downloads\\us-counties-2021.csv\"))\n",
    "\n",
    "def listindices(list_to_check, item_to_find):\n",
    "    indices = []\n",
    "    for idx, value in enumerate(list_to_check):\n",
    "        if value == item_to_find:\n",
    "            indices.append(idx)\n",
    "    return indices\n",
    "\n",
    "#getting sum infections for 2021 by county\n",
    "for k in range(len(coviddata.index)):\n",
    "\n",
    "    #county names are different in this dataframe, need to alter\n",
    "    countyname = coviddata.loc[k, 'county'] + ' County'\n",
    "\n",
    "    #establishing the quantity of new cases\n",
    "    countynewcases = coviddata.loc[k, 'cases']\n",
    "\n",
    "    #making an associated state entry\n",
    "    countystate = coviddata.loc[k, 'state']\n",
    "\n",
    "    #for every row checking if the county name is in countylist\n",
    "    if (countyname in countylist) is True:\n",
    "\n",
    "        #call an array of indices\n",
    "        tempindices = listindices(countylist, countyname)\n",
    "        #print(tempindices)\n",
    "\n",
    "        #iterate over array of indices to see if states match\n",
    "        for i in range(len(tempindices)):\n",
    "            if stateslist[tempindices[i]] == countystate:\n",
    "\n",
    "                #if they do, update the associated entry in the cases list by the new amount\n",
    "                caseslist[tempindices[i]] += countynewcases\n",
    "       \n",
    "    #otherwise adding country name, this entry cases, and the associated state\n",
    "    else:\n",
    "        countylist.append(countyname)\n",
    "        caseslist.append(countynewcases)\n",
    "        stateslist.append(countystate)\n",
    "\n",
    "allvariables = pd.DataFrame(columns = ['County','State','Total infections'])\n",
    "allvariables['County'] = countylist\n",
    "allvariables['State'] = stateslist\n",
    "allvariables['Total infections'] = caseslist"
   ]
  },
  {
   "cell_type": "markdown",
   "metadata": {},
   "source": [
    "Adding population density to the database"
   ]
  },
  {
   "cell_type": "code",
   "execution_count": 3,
   "metadata": {},
   "outputs": [
    {
     "name": "stdout",
     "output_type": "stream",
     "text": [
      "number of counties with no covid information 216\n",
      "number of unique counties tabulated 1729\n"
     ]
    }
   ],
   "source": [
    "popddata = pd.DataFrame(pd.read_csv(r\"C:\\Users\\mdsnb\\OneDrive\\Documents\\GitHub\\ChE_2410_Math\\Project 1\\Average_Household_Size_and_Population_Density_-_County.csv\"))\n",
    "countylist2 = []\n",
    "stateslist2 = []\n",
    "caseslist2 = []\n",
    "densitylist = []\n",
    "countieswithnodata = []\n",
    "cwndstate = []\n",
    "\n",
    "for k in range(len(popddata.index)):\n",
    "    countyname = popddata.loc[k, 'NAME']\n",
    "\n",
    "    #establishing the density\n",
    "    density = popddata.loc[k, 'B01001_calc_PopDensity']\n",
    "\n",
    "    #making an associated state entry\n",
    "    \n",
    "    if countyname in countylist:\n",
    "        tempindex = countylist.index(countyname)\n",
    "\n",
    "        if countystate == stateslist[tempindex]:\n",
    "\n",
    "            totalcases = caseslist[tempindex]\n",
    "            caseslist2.append(totalcases)\n",
    "            countylist2.append(countyname)\n",
    "            densitylist.append(density)\n",
    "            stateslist2.append(countystate)\n",
    "\n",
    "    else:\n",
    "        countieswithnodata.append(countyname)\n",
    "        cwndstate.append(countystate)\n",
    "\n",
    "allvariables2 = pd.DataFrame(columns = ['County','State','Total infections', 'Density'])\n",
    "allvariables2['Density'] = densitylist\n",
    "allvariables2['County'] = countylist2\n",
    "allvariables2['State'] = stateslist2\n",
    "allvariables2['Total infections'] = caseslist2\n",
    "\n",
    "nodata = pd.DataFrame(columns = ['County Name', 'State'])\n",
    "nodata['County Name'] = countieswithnodata\n",
    "nodata['State'] = cwndstate"
   ]
  },
  {
   "cell_type": "markdown",
   "metadata": {},
   "source": [
    "Pulling transportation usage and adding to database"
   ]
  },
  {
   "cell_type": "code",
   "execution_count": 4,
   "metadata": {},
   "outputs": [
    {
     "name": "stdout",
     "output_type": "stream",
     "text": [
      "number of unique counties produced 1729\n"
     ]
    }
   ],
   "source": [
    "transdata = pd.DataFrame(pd.read_csv(r\"C:\\Users\\mdsnb\\OneDrive\\Documents\\GitHub\\ChE_2410_Math\\Project 1\\County_Transportation_Profiles.csv\"))\n",
    "countylist3 = []\n",
    "stateslist3 = []\n",
    "caseslist3 = []\n",
    "densitylist2 = []\n",
    "translist = []\n",
    "#what does this data look like\n",
    "#print(transdata)\n",
    "\n",
    "for k in range(len(transdata.index)):\n",
    "    countyname = transdata.loc[k, 'County Name']\n",
    "\n",
    "    #establishing the density\n",
    "    trans = transdata.loc[k, 'Percent of resident workers who commute by transit']\n",
    "\n",
    "    #making an associated state entry\n",
    "    countystate = transdata.loc[k, 'State Name']\n",
    "    \n",
    "    if countyname in countylist2:\n",
    "        tempindex = countylist2.index(countyname)\n",
    "\n",
    "        \n",
    "        if countystate == stateslist2[tempindex]:\n",
    "        #associated cases list\n",
    "            caseslist3.append(caseslist2[tempindex])\n",
    "            countylist3.append(countyname)\n",
    "            densitylist2.append(densitylist[tempindex])\n",
    "            stateslist3.append(countystate)\n",
    "            translist.append(trans)\n",
    "        \n",
    "        #print(densitylist)\n",
    "\n",
    "allvariables3 = pd.DataFrame(columns = ['County','State','Total infections','Density','Public Transportation Usage'])\n",
    "allvariables3['Density'] = densitylist2\n",
    "allvariables3['County'] = countylist3\n",
    "allvariables3['State'] = stateslist3\n",
    "allvariables3['Total infections'] = caseslist3\n",
    "allvariables3['Public Transportation Usage'] = translist\n",
    "\n",
    "nodata = pd.DataFrame(columns = ['County Name', 'State'])\n",
    "nodata['County Name'] = countieswithnodata\n",
    "nodata['State'] = cwndstate\n",
    "\n",
    "#writing to csv\n",
    "allvariables3.to_csv(r\"C:\\Users\\mdsnb\\OneDrive\\Documents\\GitHub\\ChE_2410_Math\\Project 1\\county_all.csv\")"
   ]
  }
 ],
 "metadata": {
  "kernelspec": {
   "display_name": "Python 3.9.12 ('base')",
   "language": "python",
   "name": "python3"
  },
  "language_info": {
   "codemirror_mode": {
    "name": "ipython",
    "version": 3
   },
   "file_extension": ".py",
   "mimetype": "text/x-python",
   "name": "python",
   "nbconvert_exporter": "python",
   "pygments_lexer": "ipython3",
   "version": "3.9.12"
  },
  "orig_nbformat": 4,
  "vscode": {
   "interpreter": {
    "hash": "3ea7c28dc7569e024bd9f57d5fd933e532fb588a53e331ae301b88ac3d4d46d7"
   }
  }
 },
 "nbformat": 4,
 "nbformat_minor": 2
}
